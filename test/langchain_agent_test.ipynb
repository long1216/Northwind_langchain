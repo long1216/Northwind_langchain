{
 "cells": [
  {
   "cell_type": "code",
   "execution_count": 1,
   "metadata": {},
   "outputs": [],
   "source": [
    "import os \n",
    "os.environ[\"OPENAI_API_KEY\"] = \"\""
   ]
  },
  {
   "cell_type": "code",
   "execution_count": 2,
   "metadata": {},
   "outputs": [
    {
     "name": "stderr",
     "output_type": "stream",
     "text": [
      "/home/longyung/.local/lib/python3.10/site-packages/langchain/llms/openai.py:179: UserWarning: You are trying to use a chat model. This way of initializing it is no longer supported. Instead, please use: `from langchain.chat_models import ChatOpenAI`\n",
      "  warnings.warn(\n",
      "/home/longyung/.local/lib/python3.10/site-packages/langchain/llms/openai.py:751: UserWarning: You are trying to use a chat model. This way of initializing it is no longer supported. Instead, please use: `from langchain.chat_models import ChatOpenAI`\n",
      "  warnings.warn(\n"
     ]
    }
   ],
   "source": [
    "from langchain.agents import create_sql_agent\n",
    "from langchain.agents.agent_toolkits import SQLDatabaseToolkit\n",
    "from langchain.sql_database import SQLDatabase\n",
    "from langchain.llms.openai import OpenAI\n",
    "from langchain.agents import AgentExecutor\n",
    "from langchain.agents.agent_types import AgentType\n",
    "from langchain.chat_models import ChatOpenAI\n",
    "\n",
    "db = SQLDatabase.from_uri(\"sqlite:///../northwind-SQLite3/dist/northwind.db\")\n",
    "toolkit = SQLDatabaseToolkit(db=db, llm=OpenAI(temperature=0.8, model_name=\"gpt-3.5-turbo-0613\"))\n",
    "\n",
    "agent_executor = create_sql_agent(\n",
    "    llm=OpenAI(temperature=0.8, model_name=\"gpt-3.5-turbo-0613\"),\n",
    "    toolkit=toolkit,\n",
    "    verbose=True,\n",
    "    agent_type=AgentType.ZERO_SHOT_REACT_DESCRIPTION,\n",
    ")\n"
   ]
  },
  {
   "cell_type": "code",
   "execution_count": 3,
   "metadata": {},
   "outputs": [
    {
     "name": "stdout",
     "output_type": "stream",
     "text": [
      "\n",
      "\n",
      "\u001b[1m> Entering new  chain...\u001b[0m\n",
      "\u001b[32;1m\u001b[1;3mAction: list_tables_sql_db\n",
      "Action Input: \"\"\u001b[0m\n",
      "Observation: \u001b[38;5;200m\u001b[1;3mEmployeeTerritories, Employees, Regions, CustomerDemographics, Products, Suppliers, Orders, Customers, CustomerCustomerDemo, Categories, Shippers, Territories, Order Details\u001b[0m\n",
      "Thought:\u001b[32;1m\u001b[1;3mThere are 13 tables in the database. I should query the schema of the \"Products\" table to get more information about the product.\n",
      "Action: schema_sql_db\n",
      "Action Input: \"Products\"\u001b[0m\n",
      "Observation: \u001b[33;1m\u001b[1;3m\n",
      "CREATE TABLE \"Products\" (\n",
      "\t\"ProductID\" INTEGER NOT NULL, \n",
      "\t\"ProductName\" TEXT NOT NULL, \n",
      "\t\"SupplierID\" INTEGER, \n",
      "\t\"CategoryID\" INTEGER, \n",
      "\t\"QuantityPerUnit\" TEXT, \n",
      "\t\"UnitPrice\" NUMERIC DEFAULT 0, \n",
      "\t\"UnitsInStock\" INTEGER DEFAULT 0, \n",
      "\t\"UnitsOnOrder\" INTEGER DEFAULT 0, \n",
      "\t\"ReorderLevel\" INTEGER DEFAULT 0, \n",
      "\t\"Discontinued\" TEXT DEFAULT '0' NOT NULL, \n",
      "\tPRIMARY KEY (\"ProductID\"), \n",
      "\tFOREIGN KEY(\"SupplierID\") REFERENCES \"Suppliers\" (\"SupplierID\"), \n",
      "\tFOREIGN KEY(\"CategoryID\") REFERENCES \"Categories\" (\"CategoryID\"), \n",
      "\tCHECK ([UnitPrice]>=(0)), \n",
      "\tCHECK ([ReorderLevel]>=(0)), \n",
      "\tCHECK ([UnitsInStock]>=(0)), \n",
      "\tCHECK ([UnitsOnOrder]>=(0))\n",
      ")\n",
      "\n",
      "/*\n",
      "3 rows from Products table:\n",
      "ProductID\tProductName\tSupplierID\tCategoryID\tQuantityPerUnit\tUnitPrice\tUnitsInStock\tUnitsOnOrder\tReorderLevel\tDiscontinued\n",
      "1\tChai\t1\t1\t10 boxes x 20 bags\t18.0000000000\t39\t0\t10\t0\n",
      "2\tChang\t1\t1\t24 - 12 oz bottles\t19.0000000000\t17\t40\t25\t0\n",
      "3\tAniseed Syrup\t1\t2\t12 - 550 ml bottles\t10.0000000000\t13\t70\t25\t0\n",
      "*/\u001b[0m\n",
      "Thought:\u001b[32;1m\u001b[1;3mThe \"Products\" table contains information about the products in the database. It has columns such as ProductID, ProductName, SupplierID, CategoryID, QuantityPerUnit, UnitPrice, UnitsInStock, UnitsOnOrder, ReorderLevel, and Discontinued. The table has a primary key on the ProductID column, and foreign keys referencing the SupplierID and CategoryID columns from the Suppliers and Categories tables respectively. \n",
      "\n",
      "Here are 3 example rows from the Products table:\n",
      "ProductID  |  ProductName  |  SupplierID  |  CategoryID  |  QuantityPerUnit  |  UnitPrice  |  UnitsInStock  |  UnitsOnOrder  |  ReorderLevel  |  Discontinued\n",
      "-----------|---------------|--------------|--------------|------------------|-------------|----------------|----------------|----------------|---------------\n",
      "1          |  Chai         |  1           |  1           | 10 boxes x 20 bags| 18.0        | 39             | 0              | 10             | 0\n",
      "2          |  Chang        |  1           |  1           | 24 - 12 oz bottles| 19.0        | 17             | 40             | 25             | 0\n",
      "3          |  Aniseed Syrup|  1           |  2           | 12 - 550 ml bottles| 10.0        | 13             | 70             | 25             | 0\n",
      "\n",
      "Final Answer: The \"Products\" table contains information about the products in the database.\u001b[0m\n",
      "\n",
      "\u001b[1m> Finished chain.\u001b[0m\n"
     ]
    },
    {
     "data": {
      "text/plain": [
       "'The \"Products\" table contains information about the products in the database.'"
      ]
     },
     "execution_count": 3,
     "metadata": {},
     "output_type": "execute_result"
    }
   ],
   "source": [
    "agent_executor.run(\"Give me some more information about the product for our database\")\n"
   ]
  },
  {
   "cell_type": "code",
   "execution_count": 4,
   "metadata": {},
   "outputs": [
    {
     "name": "stdout",
     "output_type": "stream",
     "text": [
      "\n",
      "\n",
      "\u001b[1m> Entering new  chain...\u001b[0m\n",
      "\u001b[32;1m\u001b[1;3mAction: list_tables_sql_db\n",
      "Action Input: \"\"\u001b[0m\n",
      "Observation: \u001b[38;5;200m\u001b[1;3mEmployeeTerritories, Employees, Regions, CustomerDemographics, Products, Suppliers, Orders, Customers, CustomerCustomerDemo, Categories, Shippers, Territories, Order Details\u001b[0m\n",
      "Thought:\u001b[32;1m\u001b[1;3mI see that the \"Products\" table is likely the most relevant table for the question. I should query the schema of the \"Products\" table to see what columns I can use to find the product with the highest value.\n",
      "\n",
      "Action: schema_sql_db\n",
      "Action Input: \"Products\"\u001b[0m\n",
      "Observation: \u001b[33;1m\u001b[1;3m\n",
      "CREATE TABLE \"Products\" (\n",
      "\t\"ProductID\" INTEGER NOT NULL, \n",
      "\t\"ProductName\" TEXT NOT NULL, \n",
      "\t\"SupplierID\" INTEGER, \n",
      "\t\"CategoryID\" INTEGER, \n",
      "\t\"QuantityPerUnit\" TEXT, \n",
      "\t\"UnitPrice\" NUMERIC DEFAULT 0, \n",
      "\t\"UnitsInStock\" INTEGER DEFAULT 0, \n",
      "\t\"UnitsOnOrder\" INTEGER DEFAULT 0, \n",
      "\t\"ReorderLevel\" INTEGER DEFAULT 0, \n",
      "\t\"Discontinued\" TEXT DEFAULT '0' NOT NULL, \n",
      "\tPRIMARY KEY (\"ProductID\"), \n",
      "\tFOREIGN KEY(\"SupplierID\") REFERENCES \"Suppliers\" (\"SupplierID\"), \n",
      "\tFOREIGN KEY(\"CategoryID\") REFERENCES \"Categories\" (\"CategoryID\"), \n",
      "\tCHECK ([UnitPrice]>=(0)), \n",
      "\tCHECK ([ReorderLevel]>=(0)), \n",
      "\tCHECK ([UnitsInStock]>=(0)), \n",
      "\tCHECK ([UnitsOnOrder]>=(0))\n",
      ")\n",
      "\n",
      "/*\n",
      "3 rows from Products table:\n",
      "ProductID\tProductName\tSupplierID\tCategoryID\tQuantityPerUnit\tUnitPrice\tUnitsInStock\tUnitsOnOrder\tReorderLevel\tDiscontinued\n",
      "1\tChai\t1\t1\t10 boxes x 20 bags\t18.0000000000\t39\t0\t10\t0\n",
      "2\tChang\t1\t1\t24 - 12 oz bottles\t19.0000000000\t17\t40\t25\t0\n",
      "3\tAniseed Syrup\t1\t2\t12 - 550 ml bottles\t10.0000000000\t13\t70\t25\t0\n",
      "*/\u001b[0m\n",
      "Thought:\u001b[32;1m\u001b[1;3mBased on the schema of the \"Products\" table, I can use the \"UnitPrice\" column to find the product with the highest value. I should query the \"ProductID\", \"ProductName\", and \"UnitPrice\" columns from the \"Products\" table to get more details about the product.\n",
      "\n",
      "Action: query_sql_db\n",
      "Action Input: \"SELECT ProductID, ProductName, UnitPrice FROM Products ORDER BY UnitPrice DESC LIMIT 1\"\u001b[0m\n",
      "Observation: \u001b[36;1m\u001b[1;3m[(38, 'Côte de Blaye', 263.5)]\u001b[0m\n",
      "Thought:\u001b[32;1m\u001b[1;3mBased on the query, the product with the highest value for the company is \"Côte de Blaye\" with a unit price of 263.5.\n",
      "\n",
      "Final Answer: The product that gives the highest value for our company is \"Côte de Blaye\".\u001b[0m\n",
      "\n",
      "\u001b[1m> Finished chain.\u001b[0m\n"
     ]
    },
    {
     "data": {
      "text/plain": [
       "'The product that gives the highest value for our company is \"Côte de Blaye\".'"
      ]
     },
     "execution_count": 4,
     "metadata": {},
     "output_type": "execute_result"
    }
   ],
   "source": [
    "agent_executor.run(\"which product give the highest value for our company. Please give me more detail about the product\")"
   ]
  },
  {
   "cell_type": "code",
   "execution_count": 5,
   "metadata": {},
   "outputs": [
    {
     "name": "stdout",
     "output_type": "stream",
     "text": [
      "\n",
      "\n",
      "\u001b[1m> Entering new  chain...\u001b[0m\n",
      "\u001b[32;1m\u001b[1;3mAction: list_tables_sql_db\n",
      "Action Input: \"\"\u001b[0m\n",
      "Observation: \u001b[38;5;200m\u001b[1;3mEmployeeTerritories, Employees, Regions, CustomerDemographics, Products, Suppliers, Orders, Customers, CustomerCustomerDemo, Categories, Shippers, Territories, Order Details\u001b[0m\n",
      "Thought:\u001b[32;1m\u001b[1;3mI can query the Products and Order Details tables to get the information I need. I should query the schema of these tables to see what columns I can use.\n",
      "Action: schema_sql_db\n",
      "Action Input: \"Products, Order Details\"\u001b[0m\n",
      "Observation: \u001b[33;1m\u001b[1;3m\n",
      "CREATE TABLE \"Products\" (\n",
      "\t\"ProductID\" INTEGER NOT NULL, \n",
      "\t\"ProductName\" TEXT NOT NULL, \n",
      "\t\"SupplierID\" INTEGER, \n",
      "\t\"CategoryID\" INTEGER, \n",
      "\t\"QuantityPerUnit\" TEXT, \n",
      "\t\"UnitPrice\" NUMERIC DEFAULT 0, \n",
      "\t\"UnitsInStock\" INTEGER DEFAULT 0, \n",
      "\t\"UnitsOnOrder\" INTEGER DEFAULT 0, \n",
      "\t\"ReorderLevel\" INTEGER DEFAULT 0, \n",
      "\t\"Discontinued\" TEXT DEFAULT '0' NOT NULL, \n",
      "\tPRIMARY KEY (\"ProductID\"), \n",
      "\tFOREIGN KEY(\"SupplierID\") REFERENCES \"Suppliers\" (\"SupplierID\"), \n",
      "\tFOREIGN KEY(\"CategoryID\") REFERENCES \"Categories\" (\"CategoryID\"), \n",
      "\tCHECK ([UnitPrice]>=(0)), \n",
      "\tCHECK ([ReorderLevel]>=(0)), \n",
      "\tCHECK ([UnitsInStock]>=(0)), \n",
      "\tCHECK ([UnitsOnOrder]>=(0))\n",
      ")\n",
      "\n",
      "/*\n",
      "3 rows from Products table:\n",
      "ProductID\tProductName\tSupplierID\tCategoryID\tQuantityPerUnit\tUnitPrice\tUnitsInStock\tUnitsOnOrder\tReorderLevel\tDiscontinued\n",
      "1\tChai\t1\t1\t10 boxes x 20 bags\t18.0000000000\t39\t0\t10\t0\n",
      "2\tChang\t1\t1\t24 - 12 oz bottles\t19.0000000000\t17\t40\t25\t0\n",
      "3\tAniseed Syrup\t1\t2\t12 - 550 ml bottles\t10.0000000000\t13\t70\t25\t0\n",
      "*/\n",
      "\n",
      "\n",
      "CREATE TABLE \"Order Details\" (\n",
      "\t\"OrderID\" INTEGER NOT NULL, \n",
      "\t\"ProductID\" INTEGER NOT NULL, \n",
      "\t\"UnitPrice\" NUMERIC DEFAULT 0 NOT NULL, \n",
      "\t\"Quantity\" INTEGER DEFAULT 1 NOT NULL, \n",
      "\t\"Discount\" REAL DEFAULT 0 NOT NULL, \n",
      "\tPRIMARY KEY (\"OrderID\", \"ProductID\"), \n",
      "\tFOREIGN KEY(\"ProductID\") REFERENCES \"Products\" (\"ProductID\"), \n",
      "\tFOREIGN KEY(\"OrderID\") REFERENCES \"Orders\" (\"OrderID\"), \n",
      "\tCHECK ([Discount]>=(0) AND [Discount]<=(1)), \n",
      "\tCHECK ([Quantity]>(0)), \n",
      "\tCHECK ([UnitPrice]>=(0))\n",
      ")\n",
      "\n",
      "/*\n",
      "3 rows from Order Details table:\n",
      "OrderID\tProductID\tUnitPrice\tQuantity\tDiscount\n",
      "10248\t11\t14.0000000000\t12\t0.0\n",
      "10248\t42\t9.8000000000\t10\t0.0\n",
      "10248\t72\t34.8000000000\t5\t0.0\n",
      "*/\u001b[0m\n",
      "Thought:\u001b[32;1m\u001b[1;3mI can use a JOIN between the Products and Order Details tables to get the total sales for each product. I should order the results by the total sales in descending order to find the product with the highest sales.\n",
      "Action: query_sql_db\n",
      "Action Input: \"SELECT p.ProductName, SUM(od.UnitPrice * od.Quantity) AS TotalSales FROM Products p JOIN 'Order Details' od ON p.ProductID = od.ProductID GROUP BY p.ProductName ORDER BY TotalSales DESC LIMIT 10\"\u001b[0m\n",
      "Observation: \u001b[36;1m\u001b[1;3m[('Côte de Blaye', 149984.2), ('Thüringer Rostbratwurst', 87736.4), ('Raclette Courdavault', 76296), ('Camembert Pierrot', 50286.0), ('Tarte au sucre', 49827.90000000001), ('Gnocchi di nonna Alice', 45121.2), ('Manjimup Dried Apples', 44742.6), ('Alice Mutton', 35482.2), ('Carnarvon Tigers', 31987.5), ('Rössle Sauerkraut', 26865.6)]\u001b[0m\n",
      "Thought:\u001b[32;1m\u001b[1;3mThe product with the highest sales is \"Côte de Blaye\" with a total sales of 149984.2.\n",
      "Final Answer: Côte de Blaye\u001b[0m\n",
      "\n",
      "\u001b[1m> Finished chain.\u001b[0m\n"
     ]
    },
    {
     "data": {
      "text/plain": [
       "'Côte de Blaye'"
      ]
     },
     "execution_count": 5,
     "metadata": {},
     "output_type": "execute_result"
    }
   ],
   "source": [
    "agent_executor.run(\n",
    "    \"List the total sales for each product. Which product is customers spent the most?\"\n",
    ")"
   ]
  },
  {
   "cell_type": "code",
   "execution_count": null,
   "metadata": {},
   "outputs": [],
   "source": []
  }
 ],
 "metadata": {
  "kernelspec": {
   "display_name": "GPT",
   "language": "python",
   "name": "python3"
  },
  "language_info": {
   "codemirror_mode": {
    "name": "ipython",
    "version": 3
   },
   "file_extension": ".py",
   "mimetype": "text/x-python",
   "name": "python",
   "nbconvert_exporter": "python",
   "pygments_lexer": "ipython3",
   "version": "3.10.11"
  },
  "orig_nbformat": 4,
  "vscode": {
   "interpreter": {
    "hash": "29ac66ec32ec15a825544c2d333f5be1630926294db175d7f164afd4ee1f563e"
   }
  }
 },
 "nbformat": 4,
 "nbformat_minor": 2
}
