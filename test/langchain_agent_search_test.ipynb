{
 "cells": [
  {
   "cell_type": "code",
   "execution_count": 1,
   "metadata": {},
   "outputs": [],
   "source": [
    "import os \n",
    "os.environ[\"OPENAI_API_KEY\"] = \"\""
   ]
  },
  {
   "cell_type": "code",
   "execution_count": 2,
   "metadata": {},
   "outputs": [],
   "source": [
    "from langchain import SerpAPIWrapper, SQLDatabase, SQLDatabaseChain\n",
    "from langchain.agents import create_sql_agent\n",
    "from langchain.agents import initialize_agent, Tool, AgentType\n",
    "from langchain.chat_models import ChatOpenAI\n",
    "\n",
    "openAI_llm = ChatOpenAI(temperature=0.8, model_name=\"gpt-3.5-turbo-0613\")\n",
    "\n",
    "db = SQLDatabase.from_uri(\"sqlite:///.././northwind-SQLite3/dist/northwind.db\")\n",
    "db_chain = SQLDatabaseChain.from_llm(openAI_llm, db, verbose=True)"
   ]
  },
  {
   "cell_type": "code",
   "execution_count": 3,
   "metadata": {},
   "outputs": [],
   "source": [
    "search = SerpAPIWrapper(serpapi_api_key=\"\")"
   ]
  },
  {
   "cell_type": "code",
   "execution_count": 4,
   "metadata": {},
   "outputs": [],
   "source": [
    "tools = [\n",
    "    Tool(\n",
    "        name=\"Company-DB\",\n",
    "        func=db_chain.run,\n",
    "        description=\"useful for when you need to answer questions about company. Input should be in the form of a question containing full context\"\n",
    "    ),\n",
    "    Tool(\n",
    "        name = \"Search-Compare\",\n",
    "        func=search.run,\n",
    "        description=\"useful for when you need to answer questions about comparison. This tool should be used at last compared to other tools.\"\n",
    "    )\n",
    "]\n",
    "\n",
    "agent = initialize_agent(tools, openAI_llm, agent=AgentType.OPENAI_FUNCTIONS, verbose=True)\n"
   ]
  },
  {
   "cell_type": "code",
   "execution_count": 5,
   "metadata": {},
   "outputs": [
    {
     "name": "stdout",
     "output_type": "stream",
     "text": [
      "\n",
      "\n",
      "\u001b[1m> Entering new  chain...\u001b[0m\n",
      "\u001b[32;1m\u001b[1;3m\n",
      "Invoking: `Company-DB` with `highest value product`\n",
      "\n",
      "\n",
      "\u001b[0m\n",
      "\n",
      "\u001b[1m> Entering new  chain...\u001b[0m\n",
      "highest value product\n",
      "SQLQuery:\u001b[32;1m\u001b[1;3mSELECT \"ProductName\", MAX(\"UnitPrice\") AS \"HighestPrice\" FROM \"Products\"\u001b[0m\n",
      "SQLResult: \u001b[33;1m\u001b[1;3m[('Côte de Blaye', 263.5)]\u001b[0m\n",
      "Answer:\u001b[32;1m\u001b[1;3mCôte de Blaye\u001b[0m\n",
      "\u001b[1m> Finished chain.\u001b[0m\n",
      "\u001b[36;1m\u001b[1;3mCôte de Blaye\u001b[0m\u001b[32;1m\u001b[1;3m\n",
      "Invoking: `Search-Compare` with `Côte de Blaye`\n",
      "\n",
      "\n",
      "\u001b[0m\u001b[33;1m\u001b[1;3mStrong and fruity for a young wine, with musk and spice notes developing with age. Taste. Soft and balanced tannic structure. Aging potential. 1 - 5 years ...\u001b[0m\u001b[32;1m\u001b[1;3mThe product that gives the highest value for our company is the \"Côte de Blaye\" wine. This wine is known for its strong and fruity taste, with musk and spice notes that develop with age. It has a soft and balanced tannic structure. The aging potential of this wine is 1 to 5 years.\n",
      "\n",
      "As for the price comparison worldwide, I'm sorry but I couldn't find the specific information about the price of Côte de Blaye wine compared to other wines globally. It would be best to consult a wine market analysis or contact wine distributors for more detailed information on worldwide price comparisons.\u001b[0m\n",
      "\n",
      "\u001b[1m> Finished chain.\u001b[0m\n"
     ]
    },
    {
     "data": {
      "text/plain": [
       "'The product that gives the highest value for our company is the \"Côte de Blaye\" wine. This wine is known for its strong and fruity taste, with musk and spice notes that develop with age. It has a soft and balanced tannic structure. The aging potential of this wine is 1 to 5 years.\\n\\nAs for the price comparison worldwide, I\\'m sorry but I couldn\\'t find the specific information about the price of Côte de Blaye wine compared to other wines globally. It would be best to consult a wine market analysis or contact wine distributors for more detailed information on worldwide price comparisons.'"
      ]
     },
     "execution_count": 5,
     "metadata": {},
     "output_type": "execute_result"
    }
   ],
   "source": [
    "agent.run(\"which product give the highest value for our company. Please give me more detail about the product. How is the product price compared worldwide?\")\n"
   ]
  },
  {
   "cell_type": "code",
   "execution_count": null,
   "metadata": {},
   "outputs": [],
   "source": []
  }
 ],
 "metadata": {
  "kernelspec": {
   "display_name": "GPT",
   "language": "python",
   "name": "python3"
  },
  "language_info": {
   "codemirror_mode": {
    "name": "ipython",
    "version": 3
   },
   "file_extension": ".py",
   "mimetype": "text/x-python",
   "name": "python",
   "nbconvert_exporter": "python",
   "pygments_lexer": "ipython3",
   "version": "3.10.11"
  },
  "orig_nbformat": 4,
  "vscode": {
   "interpreter": {
    "hash": "29ac66ec32ec15a825544c2d333f5be1630926294db175d7f164afd4ee1f563e"
   }
  }
 },
 "nbformat": 4,
 "nbformat_minor": 2
}
