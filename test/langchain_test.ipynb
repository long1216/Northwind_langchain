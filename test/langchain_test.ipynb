{
 "cells": [
  {
   "cell_type": "code",
   "execution_count": 1,
   "metadata": {},
   "outputs": [],
   "source": [
    "import os\n",
    "os.environ[\"OPENAI_API_KEY\"] = \"\""
   ]
  },
  {
   "cell_type": "code",
   "execution_count": 3,
   "metadata": {},
   "outputs": [
    {
     "name": "stderr",
     "output_type": "stream",
     "text": [
      "/home/longyung/.local/lib/python3.10/site-packages/langchain/llms/openai.py:179: UserWarning: You are trying to use a chat model. This way of initializing it is no longer supported. Instead, please use: `from langchain.chat_models import ChatOpenAI`\n",
      "  warnings.warn(\n",
      "/home/longyung/.local/lib/python3.10/site-packages/langchain/llms/openai.py:751: UserWarning: You are trying to use a chat model. This way of initializing it is no longer supported. Instead, please use: `from langchain.chat_models import ChatOpenAI`\n",
      "  warnings.warn(\n"
     ]
    }
   ],
   "source": [
    "from langchain import SQLDatabase, SQLDatabaseChain\n",
    "from langchain.llms import OpenAI\n",
    "\n",
    "\n",
    "db = SQLDatabase.from_uri(\"sqlite:///../northwind-SQLite3/dist/northwind.db\")\n",
    "llm = OpenAI(temperature=0, verbose=True, model_name=\"gpt-3.5-turbo-0613\")\n",
    "\n",
    "db_chain = SQLDatabaseChain.from_llm(llm, db, verbose=True) #, use_query_checker=True)"
   ]
  },
  {
   "cell_type": "code",
   "execution_count": 4,
   "metadata": {},
   "outputs": [
    {
     "name": "stdout",
     "output_type": "stream",
     "text": [
      "\n",
      "\n",
      "\u001b[1m> Entering new  chain...\u001b[0m\n",
      "Give me some more information about the product for our database\n",
      "SQLQuery:\u001b[32;1m\u001b[1;3mSELECT \"ProductID\", \"ProductName\", \"SupplierID\", \"CategoryID\", \"QuantityPerUnit\", \"UnitPrice\", \"UnitsInStock\", \"UnitsOnOrder\", \"ReorderLevel\", \"Discontinued\" \n",
      "FROM \"Products\" \n",
      "LIMIT 5\u001b[0m\n",
      "SQLResult: \u001b[33;1m\u001b[1;3m[(1, 'Chai', 1, 1, '10 boxes x 20 bags', 18, 39, 0, 10, '0'), (2, 'Chang', 1, 1, '24 - 12 oz bottles', 19, 17, 40, 25, '0'), (3, 'Aniseed Syrup', 1, 2, '12 - 550 ml bottles', 10, 13, 70, 25, '0'), (4, \"Chef Anton's Cajun Seasoning\", 2, 2, '48 - 6 oz jars', 22, 53, 0, 0, '0'), (5, \"Chef Anton's Gumbo Mix\", 2, 2, '36 boxes', 21.35, 0, 0, 0, '1')]\u001b[0m\n",
      "Answer:\u001b[32;1m\u001b[1;3mHere are some more information about the products in our database:\n",
      "\n",
      "ProductID: 1\n",
      "ProductName: Chai\n",
      "SupplierID: 1\n",
      "CategoryID: 1\n",
      "QuantityPerUnit: 10 boxes x 20 bags\n",
      "UnitPrice: 18\n",
      "UnitsInStock: 39\n",
      "UnitsOnOrder: 0\n",
      "ReorderLevel: 10\n",
      "Discontinued: 0\n",
      "\n",
      "ProductID: 2\n",
      "ProductName: Chang\n",
      "SupplierID: 1\n",
      "CategoryID: 1\n",
      "QuantityPerUnit: 24 - 12 oz bottles\n",
      "UnitPrice: 19\n",
      "UnitsInStock: 17\n",
      "UnitsOnOrder: 40\n",
      "ReorderLevel: 25\n",
      "Discontinued: 0\n",
      "\n",
      "ProductID: 3\n",
      "ProductName: Aniseed Syrup\n",
      "SupplierID: 1\n",
      "CategoryID: 2\n",
      "QuantityPerUnit: 12 - 550 ml bottles\n",
      "UnitPrice: 10\n",
      "UnitsInStock: 13\n",
      "UnitsOnOrder: 70\n",
      "ReorderLevel: 25\n",
      "Discontinued: 0\n",
      "\n",
      "ProductID: 4\n",
      "ProductName: Chef Anton's Cajun Seasoning\n",
      "SupplierID: 2\n",
      "CategoryID: 2\n",
      "QuantityPerUnit: 48 - 6 oz jars\n",
      "UnitPrice: 22\n",
      "UnitsInStock: 53\n",
      "UnitsOnOrder: 0\n",
      "ReorderLevel: 0\n",
      "Discontinued: 0\n",
      "\n",
      "ProductID: 5\n",
      "ProductName: Chef Anton's Gumbo Mix\n",
      "SupplierID: 2\n",
      "CategoryID: 2\n",
      "QuantityPerUnit: 36 boxes\n",
      "UnitPrice: 21.35\n",
      "UnitsInStock: 0\n",
      "UnitsOnOrder: 0\n",
      "ReorderLevel: 0\n",
      "Discontinued: 1\u001b[0m\n",
      "\u001b[1m> Finished chain.\u001b[0m\n"
     ]
    },
    {
     "data": {
      "text/plain": [
       "\"Here are some more information about the products in our database:\\n\\nProductID: 1\\nProductName: Chai\\nSupplierID: 1\\nCategoryID: 1\\nQuantityPerUnit: 10 boxes x 20 bags\\nUnitPrice: 18\\nUnitsInStock: 39\\nUnitsOnOrder: 0\\nReorderLevel: 10\\nDiscontinued: 0\\n\\nProductID: 2\\nProductName: Chang\\nSupplierID: 1\\nCategoryID: 1\\nQuantityPerUnit: 24 - 12 oz bottles\\nUnitPrice: 19\\nUnitsInStock: 17\\nUnitsOnOrder: 40\\nReorderLevel: 25\\nDiscontinued: 0\\n\\nProductID: 3\\nProductName: Aniseed Syrup\\nSupplierID: 1\\nCategoryID: 2\\nQuantityPerUnit: 12 - 550 ml bottles\\nUnitPrice: 10\\nUnitsInStock: 13\\nUnitsOnOrder: 70\\nReorderLevel: 25\\nDiscontinued: 0\\n\\nProductID: 4\\nProductName: Chef Anton's Cajun Seasoning\\nSupplierID: 2\\nCategoryID: 2\\nQuantityPerUnit: 48 - 6 oz jars\\nUnitPrice: 22\\nUnitsInStock: 53\\nUnitsOnOrder: 0\\nReorderLevel: 0\\nDiscontinued: 0\\n\\nProductID: 5\\nProductName: Chef Anton's Gumbo Mix\\nSupplierID: 2\\nCategoryID: 2\\nQuantityPerUnit: 36 boxes\\nUnitPrice: 21.35\\nUnitsInStock: 0\\nUnitsOnOrder: 0\\nReorderLevel: 0\\nDiscontinued: 1\""
      ]
     },
     "execution_count": 4,
     "metadata": {},
     "output_type": "execute_result"
    }
   ],
   "source": [
    "db_chain.run(\"Give me some more information about the product for our database\")\n"
   ]
  },
  {
   "cell_type": "code",
   "execution_count": 5,
   "metadata": {},
   "outputs": [
    {
     "name": "stdout",
     "output_type": "stream",
     "text": [
      "\n",
      "\n",
      "\u001b[1m> Entering new  chain...\u001b[0m\n",
      "which product im giving discount\n",
      "SQLQuery:\u001b[32;1m\u001b[1;3mSELECT \"ProductName\" \n",
      "FROM \"Products\" \n",
      "WHERE \"Discount\" > 0 \n",
      "LIMIT 5;\u001b[0m\n",
      "SQLResult: \u001b[33;1m\u001b[1;3m[('Chai',), ('Chang',), ('Aniseed Syrup',), (\"Chef Anton's Cajun Seasoning\",), (\"Chef Anton's Gumbo Mix\",)]\u001b[0m\n",
      "Answer:\u001b[32;1m\u001b[1;3mThe products that are currently being given a discount are Chai, Chang, Aniseed Syrup, Chef Anton's Cajun Seasoning, and Chef Anton's Gumbo Mix.\u001b[0m\n",
      "\u001b[1m> Finished chain.\u001b[0m\n"
     ]
    },
    {
     "data": {
      "text/plain": [
       "\"The products that are currently being given a discount are Chai, Chang, Aniseed Syrup, Chef Anton's Cajun Seasoning, and Chef Anton's Gumbo Mix.\""
      ]
     },
     "execution_count": 5,
     "metadata": {},
     "output_type": "execute_result"
    }
   ],
   "source": [
    "db_chain.run(\"which product im giving discount\")"
   ]
  },
  {
   "cell_type": "code",
   "execution_count": null,
   "metadata": {},
   "outputs": [],
   "source": []
  }
 ],
 "metadata": {
  "kernelspec": {
   "display_name": "GPT",
   "language": "python",
   "name": "python3"
  },
  "language_info": {
   "codemirror_mode": {
    "name": "ipython",
    "version": 3
   },
   "file_extension": ".py",
   "mimetype": "text/x-python",
   "name": "python",
   "nbconvert_exporter": "python",
   "pygments_lexer": "ipython3",
   "version": "3.10.11"
  },
  "orig_nbformat": 4,
  "vscode": {
   "interpreter": {
    "hash": "29ac66ec32ec15a825544c2d333f5be1630926294db175d7f164afd4ee1f563e"
   }
  }
 },
 "nbformat": 4,
 "nbformat_minor": 2
}
